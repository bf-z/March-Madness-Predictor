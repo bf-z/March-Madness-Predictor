{
 "cells": [
  {
   "cell_type": "markdown",
   "id": "b984ed56",
   "metadata": {},
   "source": [
    "# March Madness Pre-Game Prediction Model\n",
    "\n",
    "This notebook builds a machine learning model to predict game outcomes **before** they happen using:\n",
    "1. Historical team performance features (rolling statistics)\n",
    "2. Temporal train/test split (first 80% vs last 20% of games per season)\n",
    "3. Logistic regression baseline model"
   ]
  },
  {
   "cell_type": "code",
   "execution_count": 18,
   "id": "05f97499",
   "metadata": {},
   "outputs": [
    {
     "name": "stdout",
     "output_type": "stream",
     "text": [
      "✓ Libraries imported\n",
      "Working directory: /users/bzheng2/Private/March-Madness-Predictor\n"
     ]
    }
   ],
   "source": [
    "import pandas as pd\n",
    "import numpy as np\n",
    "import matplotlib.pyplot as plt\n",
    "import seaborn as sns\n",
    "from pathlib import Path\n",
    "import warnings\n",
    "\n",
    "from sklearn.linear_model import LogisticRegression\n",
    "from sklearn.preprocessing import StandardScaler\n",
    "from sklearn.metrics import (\n",
    "    accuracy_score, precision_score, recall_score, f1_score,\n",
    "    confusion_matrix, classification_report, roc_auc_score, roc_curve\n",
    ")\n",
    "\n",
    "pd.set_option('display.max_columns', None)\n",
    "pd.set_option('display.width', 1000)\n",
    "warnings.filterwarnings('ignore')\n",
    "\n",
    "RANDOM_STATE = 42\n",
    "np.random.seed(RANDOM_STATE)\n",
    "\n",
    "print(\"✓ Libraries imported\")\n",
    "print(f\"Working directory: {Path.cwd()}\")"
   ]
  },
  {
   "cell_type": "markdown",
   "id": "e4a4a6e0",
   "metadata": {},
   "source": [
    "## 1. Load and Prepare Data"
   ]
  },
  {
   "cell_type": "code",
   "execution_count": 19,
   "id": "4eb0965a",
   "metadata": {},
   "outputs": [
    {
     "name": "stdout",
     "output_type": "stream",
     "text": [
      "✓ Data loaded: (211432, 43)\n",
      "  Records: 211,432\n",
      "  Seasons: 2003-2023\n",
      "  Date range: 2003-03-10 to 2023-04-03\n"
     ]
    }
   ],
   "source": [
    "# Load processed data\n",
    "df = pd.read_csv(\"processed_data/ncaa_basketball_processed_2003_2023.csv\")\n",
    "\n",
    "# Convert dates and sort chronologically (CRITICAL for temporal features)\n",
    "df['game_date'] = pd.to_datetime(df['game_date'])\n",
    "df = df.sort_values(['season', 'game_date', 'game_id']).reset_index(drop=True)\n",
    "\n",
    "print(f\"✓ Data loaded: {df.shape}\")\n",
    "print(f\"  Records: {len(df):,}\")\n",
    "print(f\"  Seasons: {df['season'].min()}-{df['season'].max()}\")\n",
    "print(f\"  Date range: {df['game_date'].min().date()} to {df['game_date'].max().date()}\")"
   ]
  },
  {
   "cell_type": "markdown",
   "id": "f649977e",
   "metadata": {},
   "source": [
    "## 2. Feature Engineering - Rolling Statistics\n",
    "\n",
    "Create pre-game features using only historical data (no future leakage)."
   ]
  },
  {
   "cell_type": "code",
   "execution_count": 20,
   "id": "aa22a8de",
   "metadata": {},
   "outputs": [
    {
     "name": "stdout",
     "output_type": "stream",
     "text": [
      "Creating historical features...\n",
      "✓ Created 11 features\n",
      "  Total columns: 53\n"
     ]
    }
   ],
   "source": [
    "print(\"Creating historical features...\")\n",
    "\n",
    "# Define stats to track\n",
    "stats = ['team_score', 'field_goal_pct', 'three_point_field_goal_pct', \n",
    "         'total_rebounds', 'assists', 'team_turnovers']\n",
    "stats = [s for s in stats if s in df.columns]\n",
    "\n",
    "# Calculate rolling averages (last 5 games, excluding current game)\n",
    "for stat in stats:\n",
    "    df[f'{stat}_L5'] = df.groupby(['team_id', 'season'])[stat].transform(\n",
    "        lambda x: x.shift(1).rolling(5, min_periods=1).mean()\n",
    "    )\n",
    "\n",
    "# Win rate (last 5 games)\n",
    "df['win_rate_L5'] = df.groupby(['team_id', 'season'])['team_winner_encoded'].transform(\n",
    "    lambda x: x.shift(1).rolling(5, min_periods=1).mean()\n",
    ")\n",
    "\n",
    "# Games played this season (before current game)\n",
    "df['games_played'] = df.groupby(['team_id', 'season']).cumcount()\n",
    "\n",
    "# Season win rate (before current game)\n",
    "df['season_wins'] = df.groupby(['team_id', 'season'])['team_winner_encoded'].transform(\n",
    "    lambda x: x.shift(1).expanding().sum()\n",
    ").fillna(0)\n",
    "df['season_win_rate'] = df.apply(\n",
    "    lambda row: row['season_wins'] / row['games_played'] if row['games_played'] > 0 else 0.5,\n",
    "    axis=1\n",
    ")\n",
    "\n",
    "print(f\"✓ Created {len([c for c in df.columns if '_L5' in c or 'season_' in c])} features\")\n",
    "print(f\"  Total columns: {len(df.columns)}\")"
   ]
  },
  {
   "cell_type": "markdown",
   "id": "aecd2e0c",
   "metadata": {},
   "source": [
    "## 3. Create Matchup Dataset\n",
    "\n",
    "Transform from team-level records to matchup-level (Team A vs Team B)."
   ]
  },
  {
   "cell_type": "code",
   "execution_count": 48,
   "id": "6f19d99a",
   "metadata": {},
   "outputs": [
    {
     "name": "stdout",
     "output_type": "stream",
     "text": [
      "Creating matchup dataset...\n",
      "  Complete games: 105,716\n",
      "✓ Matchups created: 105,716\n",
      "  Features: 0 differential features\n",
      "\n",
      "Class distribution:\n",
      "  Team A Wins:   52,878 (50.0%)\n",
      "  Team A Losses: 52,838 (50.0%)\n",
      "\n",
      "Sample:\n"
     ]
    },
    {
     "data": {
      "text/html": [
       "<div>\n",
       "<style scoped>\n",
       "    .dataframe tbody tr th:only-of-type {\n",
       "        vertical-align: middle;\n",
       "    }\n",
       "\n",
       "    .dataframe tbody tr th {\n",
       "        vertical-align: top;\n",
       "    }\n",
       "\n",
       "    .dataframe thead th {\n",
       "        text-align: right;\n",
       "    }\n",
       "</style>\n",
       "<table border=\"1\" class=\"dataframe\">\n",
       "  <thead>\n",
       "    <tr style=\"text-align: right;\">\n",
       "      <th></th>\n",
       "      <th>game_id</th>\n",
       "      <th>season</th>\n",
       "      <th>team_a_id</th>\n",
       "      <th>team_b_id</th>\n",
       "      <th>team_a_home</th>\n",
       "      <th>team_a_won</th>\n",
       "    </tr>\n",
       "  </thead>\n",
       "  <tbody>\n",
       "    <tr>\n",
       "      <th>0</th>\n",
       "      <td>230682250</td>\n",
       "      <td>2003</td>\n",
       "      <td>2608</td>\n",
       "      <td>2250</td>\n",
       "      <td>1</td>\n",
       "      <td>0</td>\n",
       "    </tr>\n",
       "    <tr>\n",
       "      <th>1</th>\n",
       "      <td>233280269</td>\n",
       "      <td>2004</td>\n",
       "      <td>269</td>\n",
       "      <td>128</td>\n",
       "      <td>1</td>\n",
       "      <td>1</td>\n",
       "    </tr>\n",
       "    <tr>\n",
       "      <th>2</th>\n",
       "      <td>233300013</td>\n",
       "      <td>2004</td>\n",
       "      <td>13</td>\n",
       "      <td>38</td>\n",
       "      <td>1</td>\n",
       "      <td>0</td>\n",
       "    </tr>\n",
       "    <tr>\n",
       "      <th>3</th>\n",
       "      <td>233300052</td>\n",
       "      <td>2004</td>\n",
       "      <td>52</td>\n",
       "      <td>2447</td>\n",
       "      <td>1</td>\n",
       "      <td>1</td>\n",
       "    </tr>\n",
       "    <tr>\n",
       "      <th>4</th>\n",
       "      <td>233300099</td>\n",
       "      <td>2004</td>\n",
       "      <td>2653</td>\n",
       "      <td>99</td>\n",
       "      <td>0</td>\n",
       "      <td>0</td>\n",
       "    </tr>\n",
       "  </tbody>\n",
       "</table>\n",
       "</div>"
      ],
      "text/plain": [
       "     game_id  season  team_a_id  team_b_id  team_a_home  team_a_won\n",
       "0  230682250    2003       2608       2250            1           0\n",
       "1  233280269    2004        269        128            1           1\n",
       "2  233300013    2004         13         38            1           0\n",
       "3  233300052    2004         52       2447            1           1\n",
       "4  233300099    2004       2653         99            0           0"
      ]
     },
     "metadata": {},
     "output_type": "display_data"
    }
   ],
   "source": [
    "print(\"Creating matchup dataset...\")\n",
    "\n",
    "# Get complete games (both teams present)\n",
    "game_counts = df.groupby('game_id').size()\n",
    "complete_games = game_counts[game_counts == 2].index\n",
    "df_complete = df[df['game_id'].isin(complete_games)].copy()\n",
    "\n",
    "print(f\"  Complete games: {len(complete_games):,}\")\n",
    "\n",
    "# Build matchup records\n",
    "matchups = []\n",
    "feature_cols = [c for c in df.columns if '_L5' in c or 'win_rate' in c or 'season_win' in c or 'games_played' in c]\n",
    "\n",
    "for game_id in complete_games:\n",
    "    game = df_complete[df_complete['game_id'] == game_id]\n",
    "    if len(game) != 2:\n",
    "        continue\n",
    "    \n",
    "    team_a, team_b = game.iloc[0], game.iloc[1]\n",
    "    \n",
    "    # Randomly shuffle which team is \"Team A\" to balance win/loss distribution\n",
    "    if np.random.random() > 0.5:\n",
    "        team_a, team_b = team_b, team_a\n",
    "    \n",
    "    matchup = {\n",
    "        'game_id': game_id,\n",
    "        'season': team_a['season'],\n",
    "        'game_date': team_a['game_date'],\n",
    "        'team_a_id': team_a['team_id'],\n",
    "        'team_b_id': team_b['team_id'],\n",
    "        'team_a_home': int(team_a.get('home_away_encoded', 0) == 1),\n",
    "        'team_a_won': int(team_a.get('team_winner_encoded', 0))\n",
    "    }\n",
    "    \n",
    "    # Add differential features (Team A - Team B)\n",
    "    for col in feature_cols:\n",
    "        if pd.notna(team_a[col]) and pd.notna(team_b[col]):\n",
    "            matchup[f'diff_{col}'] = team_a[col] - team_b[col]\n",
    "    \n",
    "    matchups.append(matchup)\n",
    "\n",
    "df_matchups = pd.DataFrame(matchups)\n",
    "df_matchups['game_date'] = pd.to_datetime(df_matchups['game_date'])\n",
    "\n",
    "print(f\"✓ Matchups created: {len(df_matchups):,}\")\n",
    "print(f\"  Features: {len([c for c in df_matchups.columns if 'diff_' in c])} differential features\")\n",
    "\n",
    "# Check class balance\n",
    "print(f\"\\nClass distribution:\")\n",
    "win_count = (df_matchups['team_a_won'] == 1).sum()\n",
    "loss_count = (df_matchups['team_a_won'] == 0).sum()\n",
    "print(f\"  Team A Wins:   {win_count:,} ({win_count/len(df_matchups)*100:.1f}%)\")\n",
    "print(f\"  Team A Losses: {loss_count:,} ({loss_count/len(df_matchups)*100:.1f}%)\")\n",
    "\n",
    "print(f\"\\nSample:\")\n",
    "display(df_matchups[['game_id', 'season', 'team_a_id', 'team_b_id', 'team_a_home', 'team_a_won']].head())"
   ]
  },
  {
   "cell_type": "markdown",
   "id": "234f088b",
   "metadata": {},
   "source": [
    "## 4. Temporal Train/Test Split\n",
    "\n",
    "For each season, use first 80% of games for training and last 20% for testing."
   ]
  },
  {
   "cell_type": "code",
   "execution_count": 49,
   "id": "028de7bc",
   "metadata": {},
   "outputs": [
    {
     "name": "stdout",
     "output_type": "stream",
     "text": [
      "Performing temporal split...\n",
      "  Clean matchups: 105,716\n",
      "\n",
      "✓ Temporal split completed:\n",
      "  Train: 84,565 matchups (80.0%)\n",
      "  Test:  21,151 matchups (20.0%)\n",
      "\n",
      "  Train date range: 2003-11-24 to 2023-02-15\n",
      "  Test date range:  2003-03-10 to 2023-04-03\n"
     ]
    }
   ],
   "source": [
    "print(\"Performing temporal split...\")\n",
    "\n",
    "# Clean data\n",
    "df_clean = df_matchups.dropna(subset=['team_a_won']).copy()\n",
    "numeric_cols = df_clean.select_dtypes(include=[np.number]).columns\n",
    "df_clean[numeric_cols] = df_clean[numeric_cols].fillna(0)\n",
    "\n",
    "print(f\"  Clean matchups: {len(df_clean):,}\")\n",
    "\n",
    "# Split by season: first 80% train, last 20% test\n",
    "train_list = []\n",
    "test_list = []\n",
    "\n",
    "for season in df_clean['season'].unique():\n",
    "    season_data = df_clean[df_clean['season'] == season].sort_values('game_date')\n",
    "    n = len(season_data)\n",
    "    split_idx = int(n * 0.8)\n",
    "    \n",
    "    train_list.append(season_data.iloc[:split_idx])\n",
    "    test_list.append(season_data.iloc[split_idx:])\n",
    "\n",
    "train_df = pd.concat(train_list, ignore_index=True)\n",
    "test_df = pd.concat(test_list, ignore_index=True)\n",
    "\n",
    "print(f\"\\n✓ Temporal split completed:\")\n",
    "print(f\"  Train: {len(train_df):,} matchups ({len(train_df)/len(df_clean)*100:.1f}%)\")\n",
    "print(f\"  Test:  {len(test_df):,} matchups ({len(test_df)/len(df_clean)*100:.1f}%)\")\n",
    "print(f\"\\n  Train date range: {train_df['game_date'].min().date()} to {train_df['game_date'].max().date()}\")\n",
    "print(f\"  Test date range:  {test_df['game_date'].min().date()} to {test_df['game_date'].max().date()}\")"
   ]
  },
  {
   "cell_type": "markdown",
   "id": "9802ba57",
   "metadata": {},
   "source": [
    "## 5. Prepare Features and Target"
   ]
  },
  {
   "cell_type": "code",
   "execution_count": 50,
   "id": "751451fb",
   "metadata": {},
   "outputs": [
    {
     "name": "stdout",
     "output_type": "stream",
     "text": [
      "Features: 1\n",
      "\n",
      "Feature list:\n",
      "   1. team_a_home\n",
      "\n",
      "Class distribution:\n",
      "  Train - Win: 50.0%, Loss: 50.0%\n",
      "  Test  - Win: 49.9%, Loss: 50.1%\n"
     ]
    }
   ],
   "source": [
    "# Select features\n",
    "exclude = ['game_id', 'season', 'game_date', 'team_a_id', 'team_b_id', 'team_a_won']\n",
    "feature_cols = [c for c in df_clean.columns if c not in exclude]\n",
    "\n",
    "X_train = train_df[feature_cols].copy()\n",
    "y_train = train_df['team_a_won'].copy()\n",
    "X_test = test_df[feature_cols].copy()\n",
    "y_test = test_df['team_a_won'].copy()\n",
    "\n",
    "print(f\"Features: {len(feature_cols)}\")\n",
    "print(f\"\\nFeature list:\")\n",
    "for i, col in enumerate(feature_cols, 1):\n",
    "    print(f\"  {i:2d}. {col}\")\n",
    "\n",
    "print(f\"\\nClass distribution:\")\n",
    "print(f\"  Train - Win: {y_train.mean():.1%}, Loss: {(1-y_train.mean()):.1%}\")\n",
    "print(f\"  Test  - Win: {y_test.mean():.1%}, Loss: {(1-y_test.mean()):.1%}\")"
   ]
  },
  {
   "cell_type": "markdown",
   "id": "b6e1a231",
   "metadata": {},
   "source": [
    "## 6. Scale Features"
   ]
  },
  {
   "cell_type": "code",
   "execution_count": 51,
   "id": "df0d11b1",
   "metadata": {},
   "outputs": [
    {
     "name": "stdout",
     "output_type": "stream",
     "text": [
      "✓ Features scaled (StandardScaler)\n"
     ]
    }
   ],
   "source": [
    "scaler = StandardScaler()\n",
    "X_train_scaled = scaler.fit_transform(X_train)\n",
    "X_test_scaled = scaler.transform(X_test)\n",
    "\n",
    "print(\"✓ Features scaled (StandardScaler)\")"
   ]
  },
  {
   "cell_type": "markdown",
   "id": "62938604",
   "metadata": {},
   "source": [
    "## 7. Train Logistic Regression Model"
   ]
  },
  {
   "cell_type": "code",
   "execution_count": 52,
   "id": "6bc1297f",
   "metadata": {},
   "outputs": [
    {
     "name": "stdout",
     "output_type": "stream",
     "text": [
      "Training logistic regression model...\n",
      "✓ Model trained (converged in 2 iterations)\n"
     ]
    }
   ],
   "source": [
    "print(\"Training logistic regression model...\")\n",
    "\n",
    "model = LogisticRegression(\n",
    "    random_state=RANDOM_STATE,\n",
    "    max_iter=1000,\n",
    "    class_weight='balanced'\n",
    ")\n",
    "\n",
    "model.fit(X_train_scaled, y_train)\n",
    "\n",
    "print(f\"✓ Model trained (converged in {model.n_iter_[0]} iterations)\")"
   ]
  },
  {
   "cell_type": "markdown",
   "id": "cb4420a9",
   "metadata": {},
   "source": [
    "## 8. Evaluate Model"
   ]
  },
  {
   "cell_type": "code",
   "execution_count": 53,
   "id": "4fbe7665",
   "metadata": {},
   "outputs": [
    {
     "name": "stdout",
     "output_type": "stream",
     "text": [
      "======================================================================\n",
      "MODEL PERFORMANCE\n",
      "======================================================================\n",
      "\n",
      "TRAIN SET:\n",
      "  Accuracy:  0.5489\n",
      "  Precision: 0.5492\n"
     ]
    },
    {
     "name": "stdout",
     "output_type": "stream",
     "text": [
      "  Recall:    0.5497\n",
      "  F1-Score:  0.5495\n",
      "  ROC-AUC:   0.5489\n",
      "\n",
      "TEST SET:\n",
      "  Accuracy:  0.5324\n",
      "  Precision: 0.5318\n",
      "  Recall:    0.5310\n",
      "  F1-Score:  0.5314\n",
      "  ROC-AUC:   0.5324\n",
      "\n",
      "              precision    recall  f1-score   support\n",
      "\n",
      "        Loss       0.53      0.53      0.53     10590\n",
      "         Win       0.53      0.53      0.53     10561\n",
      "\n",
      "    accuracy                           0.53     21151\n",
      "   macro avg       0.53      0.53      0.53     21151\n",
      "weighted avg       0.53      0.53      0.53     21151\n",
      "\n"
     ]
    }
   ],
   "source": [
    "# Predictions\n",
    "y_train_pred = model.predict(X_train_scaled)\n",
    "y_test_pred = model.predict(X_test_scaled)\n",
    "y_train_proba = model.predict_proba(X_train_scaled)[:, 1]\n",
    "y_test_proba = model.predict_proba(X_test_scaled)[:, 1]\n",
    "\n",
    "print(\"=\"*70)\n",
    "print(\"MODEL PERFORMANCE\")\n",
    "print(\"=\"*70)\n",
    "\n",
    "print(\"\\nTRAIN SET:\")\n",
    "print(f\"  Accuracy:  {accuracy_score(y_train, y_train_pred):.4f}\")\n",
    "print(f\"  Precision: {precision_score(y_train, y_train_pred):.4f}\")\n",
    "print(f\"  Recall:    {recall_score(y_train, y_train_pred):.4f}\")\n",
    "print(f\"  F1-Score:  {f1_score(y_train, y_train_pred):.4f}\")\n",
    "print(f\"  ROC-AUC:   {roc_auc_score(y_train, y_train_proba):.4f}\")\n",
    "\n",
    "print(\"\\nTEST SET:\")\n",
    "print(f\"  Accuracy:  {accuracy_score(y_test, y_test_pred):.4f}\")\n",
    "print(f\"  Precision: {precision_score(y_test, y_test_pred):.4f}\")\n",
    "print(f\"  Recall:    {recall_score(y_test, y_test_pred):.4f}\")\n",
    "print(f\"  F1-Score:  {f1_score(y_test, y_test_pred):.4f}\")\n",
    "print(f\"  ROC-AUC:   {roc_auc_score(y_test, y_test_proba):.4f}\")\n",
    "\n",
    "print(\"\\n\" + classification_report(y_test, y_test_pred, target_names=['Loss', 'Win']))"
   ]
  },
  {
   "cell_type": "code",
   "execution_count": 54,
   "id": "ea705123",
   "metadata": {},
   "outputs": [
    {
     "data": {
      "image/png": "[encoded data removed]",
      "text/plain": [
       "<Figure size 1200x400 with 4 Axes>"
      ]
     },
     "metadata": {},
     "output_type": "display_data"
    }
   ],
   "source": [
    "# Confusion Matrix\n",
    "fig, axes = plt.subplots(1, 2, figsize=(12, 4))\n",
    "\n",
    "cm_train = confusion_matrix(y_train, y_train_pred)\n",
    "sns.heatmap(cm_train, annot=True, fmt='d', cmap='Blues', ax=axes[0],\n",
    "            xticklabels=['Loss', 'Win'], yticklabels=['Loss', 'Win'])\n",
    "axes[0].set_title('Train Confusion Matrix')\n",
    "axes[0].set_ylabel('True')\n",
    "axes[0].set_xlabel('Predicted')\n",
    "\n",
    "cm_test = confusion_matrix(y_test, y_test_pred)\n",
    "sns.heatmap(cm_test, annot=True, fmt='d', cmap='Blues', ax=axes[1],\n",
    "            xticklabels=['Loss', 'Win'], yticklabels=['Loss', 'Win'])\n",
    "axes[1].set_title('Test Confusion Matrix')\n",
    "axes[1].set_ylabel('True')\n",
    "axes[1].set_xlabel('Predicted')\n",
    "\n",
    "plt.tight_layout()\n",
    "plt.show()"
   ]
  },
  {
   "cell_type": "code",
   "execution_count": 55,
   "id": "e9904191",
   "metadata": {},
   "outputs": [
    {
     "data": {
      "image/png": "[encoded data removed]",
      "text/plain": [
       "<Figure size 800x600 with 1 Axes>"
      ]
     },
     "metadata": {},
     "output_type": "display_data"
    }
   ],
   "source": [
    "# ROC Curve\n",
    "fpr, tpr, _ = roc_curve(y_test, y_test_proba)\n",
    "roc_auc = roc_auc_score(y_test, y_test_proba)\n",
    "\n",
    "plt.figure(figsize=(8, 6))\n",
    "plt.plot(fpr, tpr, lw=2, label=f'ROC (AUC = {roc_auc:.4f})')\n",
    "plt.plot([0, 1], [0, 1], 'k--', lw=2, label='Random')\n",
    "plt.xlim([0, 1])\n",
    "plt.ylim([0, 1.05])\n",
    "plt.xlabel('False Positive Rate')\n",
    "plt.ylabel('True Positive Rate')\n",
    "plt.title('ROC Curve - Test Set')\n",
    "plt.legend(loc=\"lower right\")\n",
    "plt.grid(alpha=0.3)\n",
    "plt.tight_layout()\n",
    "plt.show()"
   ]
  },
  {
   "cell_type": "markdown",
   "id": "688d70d0",
   "metadata": {},
   "source": [
    "## 9. Feature Importance"
   ]
  },
  {
   "cell_type": "code",
   "execution_count": 56,
   "id": "deb078c1",
   "metadata": {},
   "outputs": [
    {
     "name": "stdout",
     "output_type": "stream",
     "text": [
      "\n",
      "Top 10 Most Important Features:\n",
      "======================================================================\n",
      "  team_a_home                               -0.1962 ↓\n"
     ]
    },
    {
     "data": {
      "image/png": "[encoded data removed]",
      "text/plain": [
       "<Figure size 1000x600 with 1 Axes>"
      ]
     },
     "metadata": {},
     "output_type": "display_data"
    }
   ],
   "source": [
    "# Feature importance\n",
    "feature_importance = pd.DataFrame({\n",
    "    'Feature': feature_cols,\n",
    "    'Coefficient': model.coef_[0],\n",
    "    'Abs_Coefficient': np.abs(model.coef_[0])\n",
    "}).sort_values('Abs_Coefficient', ascending=False)\n",
    "\n",
    "print(\"\\nTop 10 Most Important Features:\")\n",
    "print(\"=\"*70)\n",
    "for idx, row in feature_importance.head(10).iterrows():\n",
    "    direction = \"↑\" if row['Coefficient'] > 0 else \"↓\"\n",
    "    print(f\"  {row['Feature']:<40} {row['Coefficient']:>8.4f} {direction}\")\n",
    "\n",
    "# Visualize\n",
    "plt.figure(figsize=(10, 6))\n",
    "top_features = feature_importance.head(12)\n",
    "colors = ['green' if x > 0 else 'red' for x in top_features['Coefficient']]\n",
    "plt.barh(range(len(top_features)), top_features['Coefficient'], color=colors, alpha=0.7)\n",
    "plt.yticks(range(len(top_features)), top_features['Feature'])\n",
    "plt.xlabel('Coefficient')\n",
    "plt.title('Feature Importance (Top 12)')\n",
    "plt.axvline(x=0, color='black', linestyle='-', linewidth=0.5)\n",
    "plt.grid(axis='x', alpha=0.3)\n",
    "plt.tight_layout()\n",
    "plt.show()"
   ]
  },
  {
   "cell_type": "markdown",
   "id": "20ddbb2f",
   "metadata": {},
   "source": [
    "## 10. Summary"
   ]
  },
  {
   "cell_type": "code",
   "execution_count": 57,
   "id": "8888acdc",
   "metadata": {},
   "outputs": [
    {
     "name": "stdout",
     "output_type": "stream",
     "text": [
      "======================================================================\n",
      "SUMMARY\n",
      "======================================================================\n",
      "\n",
      "📊 Dataset: 105,716 matchups\n",
      "   Train: 84,565 | Test: 21,151\n",
      "\n",
      "🎯 Model: Logistic Regression\n",
      "   Features: 1 (historical rolling stats)\n",
      "   Split: Temporal 80/20 per season\n",
      "\n",
      "📈 Performance:\n",
      "   Test Accuracy: 53.24%\n",
      "   Test ROC-AUC:  0.5324\n",
      "\n",
      "🔑 Top Predictor: team_a_home\n",
      "\n",
      "💡 Next Steps:\n",
      "   • Add more historical windows (L10, L15)\n",
      "   • Try Random Forest / XGBoost\n",
      "   • Add head-to-head features\n",
      "   • Implement Elo ratings\n",
      "======================================================================\n"
     ]
    }
   ],
   "source": [
    "print(\"=\"*70)\n",
    "print(\"SUMMARY\")\n",
    "print(\"=\"*70)\n",
    "print(f\"\\n📊 Dataset: {len(df_clean):,} matchups\")\n",
    "print(f\"   Train: {len(train_df):,} | Test: {len(test_df):,}\")\n",
    "print(f\"\\n🎯 Model: Logistic Regression\")\n",
    "print(f\"   Features: {len(feature_cols)} (historical rolling stats)\")\n",
    "print(f\"   Split: Temporal 80/20 per season\")\n",
    "print(f\"\\n📈 Performance:\")\n",
    "print(f\"   Test Accuracy: {accuracy_score(y_test, y_test_pred):.2%}\")\n",
    "print(f\"   Test ROC-AUC:  {roc_auc_score(y_test, y_test_proba):.4f}\")\n",
    "print(f\"\\n🔑 Top Predictor: {feature_importance.iloc[0]['Feature']}\")\n",
    "print(f\"\\n💡 Next Steps:\")\n",
    "print(f\"   • Add more historical windows (L10, L15)\")\n",
    "print(f\"   • Try Random Forest / XGBoost\")\n",
    "print(f\"   • Add head-to-head features\")\n",
    "print(f\"   • Implement Elo ratings\")\n",
    "print(\"=\"*70)"
   ]
  },
  {
   "cell_type": "code",
   "execution_count": 58,
   "id": "5c2e193e",
   "metadata": {},
   "outputs": [
    {
     "name": "stdout",
     "output_type": "stream",
     "text": [
      "Libraries imported successfully!\n",
      "Current working directory: /users/bzheng2/Private/March-Madness-Predictor\n"
     ]
    }
   ],
   "source": [
    "import pandas as pd\n",
    "import numpy as np\n",
    "import matplotlib.pyplot as plt\n",
    "import seaborn as sns\n",
    "from pathlib import Path\n",
    "import warnings\n",
    "\n",
    "# Machine Learning imports\n",
    "from sklearn.model_selection import train_test_split, cross_val_score, GridSearchCV\n",
    "from sklearn.linear_model import LogisticRegression\n",
    "from sklearn.preprocessing import StandardScaler\n",
    "from sklearn.metrics import (\n",
    "    accuracy_score, precision_score, recall_score, f1_score,\n",
    "    confusion_matrix, classification_report, roc_auc_score, roc_curve\n",
    ")\n",
    "\n",
    "# Configure display\n",
    "pd.set_option('display.max_columns', None)\n",
    "pd.set_option('display.width', 1000)\n",
    "warnings.filterwarnings('ignore')\n",
    "\n",
    "# Set random seed for reproducibility\n",
    "RANDOM_STATE = 42\n",
    "np.random.seed(RANDOM_STATE)\n",
    "\n",
    "print(\"Libraries imported successfully!\")\n",
    "print(f\"Current working directory: {Path.cwd()}\")"
   ]
  },
  {
   "cell_type": "markdown",
   "id": "acd538fe",
   "metadata": {},
   "source": [
    "## 1. Load Processed Data\n",
    "\n",
    "Load the cleaned and processed dataset from the previous data preparation notebook."
   ]
  },
  {
   "cell_type": "code",
   "execution_count": 59,
   "id": "f21ae9d9",
   "metadata": {},
   "outputs": [
    {
     "name": "stdout",
     "output_type": "stream",
     "text": [
      "✓ Data loaded successfully!\n",
      "  File: processed_data/ncaa_basketball_processed_2003_2023.csv\n",
      "  Shape: (211432, 43)\n",
      "  Rows: 211,432\n",
      "  Columns: 43\n"
     ]
    }
   ],
   "source": [
    "# Load the processed data\n",
    "data_path = Path(\"processed_data/ncaa_basketball_processed_2003_2023.csv\")\n",
    "\n",
    "if data_path.exists():\n",
    "    df = pd.read_csv(data_path)\n",
    "    print(f\"✓ Data loaded successfully!\")\n",
    "    print(f\"  File: {data_path}\")\n",
    "    print(f\"  Shape: {df.shape}\")\n",
    "    print(f\"  Rows: {len(df):,}\")\n",
    "    print(f\"  Columns: {df.shape[1]}\")\n",
    "else:\n",
    "    print(f\"✗ ERROR: File not found at {data_path}\")\n",
    "    print(f\"  Please run the data preparation notebook first to generate the processed data.\")"
   ]
  },
  {
   "cell_type": "code",
   "execution_count": 60,
   "id": "d12c2cd8",
   "metadata": {},
   "outputs": [
    {
     "name": "stdout",
     "output_type": "stream",
     "text": [
      "\n",
      "DATASET OVERVIEW:\n",
      "============================================================\n",
      "Total records: 211,432\n",
      "Date range: 2003 to 2023\n",
      "\n",
      "First few rows:\n"
     ]
    },
    {
     "data": {
      "text/html": [
       "<div>\n",
       "<style scoped>\n",
       "    .dataframe tbody tr th:only-of-type {\n",
       "        vertical-align: middle;\n",
       "    }\n",
       "\n",
       "    .dataframe tbody tr th {\n",
       "        vertical-align: top;\n",
       "    }\n",
       "\n",
       "    .dataframe thead th {\n",
       "        text-align: right;\n",
       "    }\n",
       "</style>\n",
       "<table border=\"1\" class=\"dataframe\">\n",
       "  <thead>\n",
       "    <tr style=\"text-align: right;\">\n",
       "      <th></th>\n",
       "      <th>team_location</th>\n",
       "      <th>team_id</th>\n",
       "      <th>field_goals_made_field_goals_attempted</th>\n",
       "      <th>field_goal_pct</th>\n",
       "      <th>three_point_field_goals_made_three_point_field_goals_attempted</th>\n",
       "      <th>three_point_field_goal_pct</th>\n",
       "      <th>free_throws_made_free_throws_attempted</th>\n",
       "      <th>free_throw_pct</th>\n",
       "      <th>total_rebounds</th>\n",
       "      <th>offensive_rebounds</th>\n",
       "      <th>defensive_rebounds</th>\n",
       "      <th>team_rebounds</th>\n",
       "      <th>assists</th>\n",
       "      <th>steals</th>\n",
       "      <th>blocks</th>\n",
       "      <th>turnovers</th>\n",
       "      <th>team_turnovers</th>\n",
       "      <th>total_turnovers</th>\n",
       "      <th>technical_fouls</th>\n",
       "      <th>total_technical_fouls</th>\n",
       "      <th>flagrant_fouls</th>\n",
       "      <th>fouls</th>\n",
       "      <th>game_id</th>\n",
       "      <th>season</th>\n",
       "      <th>season_type</th>\n",
       "      <th>game_date</th>\n",
       "      <th>game_date_time</th>\n",
       "      <th>team_score</th>\n",
       "      <th>team_winner</th>\n",
       "      <th>field_goals_made</th>\n",
       "      <th>field_goals_attempted</th>\n",
       "      <th>free_throws_made</th>\n",
       "      <th>free_throws_attempted</th>\n",
       "      <th>three_point_field_goals_made</th>\n",
       "      <th>three_point_field_goals_attempted</th>\n",
       "      <th>opponent_team_location</th>\n",
       "      <th>opponent_team_score</th>\n",
       "      <th>largest_lead</th>\n",
       "      <th>home_away_combined</th>\n",
       "      <th>opponent_id_combined</th>\n",
       "      <th>season_type_encoded</th>\n",
       "      <th>home_away_encoded</th>\n",
       "      <th>team_winner_encoded</th>\n",
       "    </tr>\n",
       "  </thead>\n",
       "  <tbody>\n",
       "    <tr>\n",
       "      <th>0</th>\n",
       "      <td>Saint Mary's</td>\n",
       "      <td>2608</td>\n",
       "      <td>16-45</td>\n",
       "      <td>35.6</td>\n",
       "      <td>4-11</td>\n",
       "      <td>36.4</td>\n",
       "      <td>16-23</td>\n",
       "      <td>69.6</td>\n",
       "      <td>34</td>\n",
       "      <td>10</td>\n",
       "      <td>20</td>\n",
       "      <td>4.0</td>\n",
       "      <td>7</td>\n",
       "      <td>3</td>\n",
       "      <td>3</td>\n",
       "      <td>18</td>\n",
       "      <td>0</td>\n",
       "      <td>18</td>\n",
       "      <td>0</td>\n",
       "      <td>0</td>\n",
       "      <td>0</td>\n",
       "      <td>21</td>\n",
       "      <td>230682250</td>\n",
       "      <td>2003</td>\n",
       "      <td>2</td>\n",
       "      <td>2003-03-10</td>\n",
       "      <td>NaN</td>\n",
       "      <td>52.0</td>\n",
       "      <td>False</td>\n",
       "      <td>16.0</td>\n",
       "      <td>45.0</td>\n",
       "      <td>16.0</td>\n",
       "      <td>23.0</td>\n",
       "      <td>4.0</td>\n",
       "      <td>11.0</td>\n",
       "      <td>Gonzaga</td>\n",
       "      <td>73.0</td>\n",
       "      <td>NaN</td>\n",
       "      <td>home</td>\n",
       "      <td>2250.0</td>\n",
       "      <td>0</td>\n",
       "      <td>1</td>\n",
       "      <td>0</td>\n",
       "    </tr>\n",
       "    <tr>\n",
       "      <th>1</th>\n",
       "      <td>Gonzaga</td>\n",
       "      <td>2250</td>\n",
       "      <td>24-55</td>\n",
       "      <td>43.6</td>\n",
       "      <td>4-10</td>\n",
       "      <td>40.0</td>\n",
       "      <td>21-27</td>\n",
       "      <td>77.8</td>\n",
       "      <td>41</td>\n",
       "      <td>12</td>\n",
       "      <td>23</td>\n",
       "      <td>6.0</td>\n",
       "      <td>9</td>\n",
       "      <td>10</td>\n",
       "      <td>3</td>\n",
       "      <td>8</td>\n",
       "      <td>0</td>\n",
       "      <td>8</td>\n",
       "      <td>0</td>\n",
       "      <td>0</td>\n",
       "      <td>0</td>\n",
       "      <td>20</td>\n",
       "      <td>230682250</td>\n",
       "      <td>2003</td>\n",
       "      <td>2</td>\n",
       "      <td>2003-03-10</td>\n",
       "      <td>NaN</td>\n",
       "      <td>73.0</td>\n",
       "      <td>True</td>\n",
       "      <td>24.0</td>\n",
       "      <td>55.0</td>\n",
       "      <td>21.0</td>\n",
       "      <td>27.0</td>\n",
       "      <td>4.0</td>\n",
       "      <td>10.0</td>\n",
       "      <td>Saint Mary's</td>\n",
       "      <td>52.0</td>\n",
       "      <td>NaN</td>\n",
       "      <td>away</td>\n",
       "      <td>2608.0</td>\n",
       "      <td>0</td>\n",
       "      <td>0</td>\n",
       "      <td>1</td>\n",
       "    </tr>\n",
       "    <tr>\n",
       "      <th>2</th>\n",
       "      <td>Illinois</td>\n",
       "      <td>356</td>\n",
       "      <td>23-56</td>\n",
       "      <td>41.1</td>\n",
       "      <td>2-15</td>\n",
       "      <td>13.3</td>\n",
       "      <td>3-8</td>\n",
       "      <td>37.5</td>\n",
       "      <td>38</td>\n",
       "      <td>16</td>\n",
       "      <td>20</td>\n",
       "      <td>2.0</td>\n",
       "      <td>17</td>\n",
       "      <td>6</td>\n",
       "      <td>2</td>\n",
       "      <td>22</td>\n",
       "      <td>1</td>\n",
       "      <td>22</td>\n",
       "      <td>0</td>\n",
       "      <td>0</td>\n",
       "      <td>0</td>\n",
       "      <td>20</td>\n",
       "      <td>233432507</td>\n",
       "      <td>2004</td>\n",
       "      <td>2</td>\n",
       "      <td>2003-12-09</td>\n",
       "      <td>2003-12-10 00:00:00+00:00</td>\n",
       "      <td>51.0</td>\n",
       "      <td>False</td>\n",
       "      <td>23.0</td>\n",
       "      <td>56.0</td>\n",
       "      <td>3.0</td>\n",
       "      <td>8.0</td>\n",
       "      <td>2.0</td>\n",
       "      <td>15.0</td>\n",
       "      <td>Providence</td>\n",
       "      <td>70.0</td>\n",
       "      <td>NaN</td>\n",
       "      <td>away</td>\n",
       "      <td>2507.0</td>\n",
       "      <td>0</td>\n",
       "      <td>0</td>\n",
       "      <td>0</td>\n",
       "    </tr>\n",
       "    <tr>\n",
       "      <th>3</th>\n",
       "      <td>Providence</td>\n",
       "      <td>2507</td>\n",
       "      <td>26-60</td>\n",
       "      <td>43.3</td>\n",
       "      <td>7-16</td>\n",
       "      <td>43.8</td>\n",
       "      <td>11-19</td>\n",
       "      <td>57.9</td>\n",
       "      <td>44</td>\n",
       "      <td>19</td>\n",
       "      <td>20</td>\n",
       "      <td>5.0</td>\n",
       "      <td>14</td>\n",
       "      <td>10</td>\n",
       "      <td>7</td>\n",
       "      <td>14</td>\n",
       "      <td>0</td>\n",
       "      <td>14</td>\n",
       "      <td>0</td>\n",
       "      <td>0</td>\n",
       "      <td>0</td>\n",
       "      <td>12</td>\n",
       "      <td>233432507</td>\n",
       "      <td>2004</td>\n",
       "      <td>2</td>\n",
       "      <td>2003-12-09</td>\n",
       "      <td>2003-12-10 00:00:00+00:00</td>\n",
       "      <td>70.0</td>\n",
       "      <td>True</td>\n",
       "      <td>26.0</td>\n",
       "      <td>60.0</td>\n",
       "      <td>11.0</td>\n",
       "      <td>19.0</td>\n",
       "      <td>7.0</td>\n",
       "      <td>16.0</td>\n",
       "      <td>Illinois</td>\n",
       "      <td>51.0</td>\n",
       "      <td>NaN</td>\n",
       "      <td>home</td>\n",
       "      <td>356.0</td>\n",
       "      <td>0</td>\n",
       "      <td>1</td>\n",
       "      <td>1</td>\n",
       "    </tr>\n",
       "    <tr>\n",
       "      <th>4</th>\n",
       "      <td>Colorado</td>\n",
       "      <td>38</td>\n",
       "      <td>28-63</td>\n",
       "      <td>44.4</td>\n",
       "      <td>1-10</td>\n",
       "      <td>10.0</td>\n",
       "      <td>16-23</td>\n",
       "      <td>69.6</td>\n",
       "      <td>48</td>\n",
       "      <td>12</td>\n",
       "      <td>33</td>\n",
       "      <td>3.0</td>\n",
       "      <td>9</td>\n",
       "      <td>9</td>\n",
       "      <td>6</td>\n",
       "      <td>14</td>\n",
       "      <td>0</td>\n",
       "      <td>14</td>\n",
       "      <td>0</td>\n",
       "      <td>0</td>\n",
       "      <td>0</td>\n",
       "      <td>17</td>\n",
       "      <td>233300013</td>\n",
       "      <td>2004</td>\n",
       "      <td>2</td>\n",
       "      <td>2003-11-26</td>\n",
       "      <td>2003-11-27 03:00:00+00:00</td>\n",
       "      <td>73.0</td>\n",
       "      <td>True</td>\n",
       "      <td>28.0</td>\n",
       "      <td>63.0</td>\n",
       "      <td>16.0</td>\n",
       "      <td>23.0</td>\n",
       "      <td>1.0</td>\n",
       "      <td>10.0</td>\n",
       "      <td>Cal Poly</td>\n",
       "      <td>62.0</td>\n",
       "      <td>NaN</td>\n",
       "      <td>away</td>\n",
       "      <td>13.0</td>\n",
       "      <td>0</td>\n",
       "      <td>0</td>\n",
       "      <td>1</td>\n",
       "    </tr>\n",
       "  </tbody>\n",
       "</table>\n",
       "</div>"
      ],
      "text/plain": [
       "  team_location  team_id field_goals_made_field_goals_attempted  field_goal_pct three_point_field_goals_made_three_point_field_goals_attempted  three_point_field_goal_pct free_throws_made_free_throws_attempted  free_throw_pct  total_rebounds  offensive_rebounds  defensive_rebounds  team_rebounds  assists  steals  blocks  turnovers  team_turnovers  total_turnovers  technical_fouls  total_technical_fouls  flagrant_fouls  fouls    game_id  season  season_type   game_date             game_date_time  team_score  team_winner  field_goals_made  field_goals_attempted  free_throws_made  free_throws_attempted  three_point_field_goals_made  three_point_field_goals_attempted opponent_team_location  opponent_team_score  largest_lead home_away_combined  opponent_id_combined  season_type_encoded  home_away_encoded  team_winner_encoded\n",
       "0  Saint Mary's     2608                                  16-45            35.6                                               4-11                                    36.4                                  16-23            69.6              34                  10                  20            4.0        7       3       3         18               0               18                0                      0               0     21  230682250    2003            2  2003-03-10                        NaN        52.0        False              16.0                   45.0              16.0                   23.0                           4.0                               11.0                Gonzaga                 73.0           NaN               home                2250.0                    0                  1                    0\n",
       "1       Gonzaga     2250                                  24-55            43.6                                               4-10                                    40.0                                  21-27            77.8              41                  12                  23            6.0        9      10       3          8               0                8                0                      0               0     20  230682250    2003            2  2003-03-10                        NaN        73.0         True              24.0                   55.0              21.0                   27.0                           4.0                               10.0           Saint Mary's                 52.0           NaN               away                2608.0                    0                  0                    1\n",
       "2      Illinois      356                                  23-56            41.1                                               2-15                                    13.3                                    3-8            37.5              38                  16                  20            2.0       17       6       2         22               1               22                0                      0               0     20  233432507    2004            2  2003-12-09  2003-12-10 00:00:00+00:00        51.0        False              23.0                   56.0               3.0                    8.0                           2.0                               15.0             Providence                 70.0           NaN               away                2507.0                    0                  0                    0\n",
       "3    Providence     2507                                  26-60            43.3                                               7-16                                    43.8                                  11-19            57.9              44                  19                  20            5.0       14      10       7         14               0               14                0                      0               0     12  233432507    2004            2  2003-12-09  2003-12-10 00:00:00+00:00        70.0         True              26.0                   60.0              11.0                   19.0                           7.0                               16.0               Illinois                 51.0           NaN               home                 356.0                    0                  1                    1\n",
       "4      Colorado       38                                  28-63            44.4                                               1-10                                    10.0                                  16-23            69.6              48                  12                  33            3.0        9       9       6         14               0               14                0                      0               0     17  233300013    2004            2  2003-11-26  2003-11-27 03:00:00+00:00        73.0         True              28.0                   63.0              16.0                   23.0                           1.0                               10.0               Cal Poly                 62.0           NaN               away                  13.0                    0                  0                    1"
      ]
     },
     "metadata": {},
     "output_type": "display_data"
    },
    {
     "name": "stdout",
     "output_type": "stream",
     "text": [
      "\n",
      "Column names:\n",
      "['team_location', 'team_id', 'field_goals_made_field_goals_attempted', 'field_goal_pct', 'three_point_field_goals_made_three_point_field_goals_attempted', 'three_point_field_goal_pct', 'free_throws_made_free_throws_attempted', 'free_throw_pct', 'total_rebounds', 'offensive_rebounds', 'defensive_rebounds', 'team_rebounds', 'assists', 'steals', 'blocks', 'turnovers', 'team_turnovers', 'total_turnovers', 'technical_fouls', 'total_technical_fouls', 'flagrant_fouls', 'fouls', 'game_id', 'season', 'season_type', 'game_date', 'game_date_time', 'team_score', 'team_winner', 'field_goals_made', 'field_goals_attempted', 'free_throws_made', 'free_throws_attempted', 'three_point_field_goals_made', 'three_point_field_goals_attempted', 'opponent_team_location', 'opponent_team_score', 'largest_lead', 'home_away_combined', 'opponent_id_combined', 'season_type_encoded', 'home_away_encoded', 'team_winner_encoded']\n"
     ]
    }
   ],
   "source": [
    "# Display basic information\n",
    "print(\"\\nDATASET OVERVIEW:\")\n",
    "print(\"=\"*60)\n",
    "print(f\"Total records: {len(df):,}\")\n",
    "print(f\"Date range: {df['season'].min()} to {df['season'].max()}\")\n",
    "print(f\"\\nFirst few rows:\")\n",
    "display(df.head())\n",
    "\n",
    "print(f\"\\nColumn names:\")\n",
    "print(df.columns.tolist())"
   ]
  },
  {
   "cell_type": "markdown",
   "id": "9b4924dd",
   "metadata": {},
   "source": [
    "## 2. Feature Selection and Data Preparation\n",
    "\n",
    "Select features for modeling, handling missing values, and prepare the target variable."
   ]
  },
  {
   "cell_type": "code",
   "execution_count": 61,
   "id": "cb204500",
   "metadata": {},
   "outputs": [
    {
     "name": "stdout",
     "output_type": "stream",
     "text": [
      "FEATURE SELECTION AND DATA PREPARATION\n",
      "======================================================================\n",
      "Total columns in dataset: 43\n",
      "Excluded columns: 14\n",
      "Feature columns selected: 29\n",
      "Target variable: team_winner_encoded\n"
     ]
    }
   ],
   "source": [
    "print(\"FEATURE SELECTION AND DATA PREPARATION\")\n",
    "print(\"=\"*70)\n",
    "\n",
    "# Define target variable\n",
    "target_col = 'team_winner_encoded' if 'team_winner_encoded' in df.columns else 'team_winner'\n",
    "\n",
    "# Define columns to exclude from features\n",
    "exclude_cols = [\n",
    "    # Identifiers\n",
    "    'game_id', 'team_id', 'opponent_id_combined',\n",
    "    \n",
    "    # Dates (use season instead)\n",
    "    'game_date', 'game_date_time',\n",
    "    \n",
    "    # Target variables (and their raw versions)\n",
    "    'team_winner', 'team_winner_encoded',\n",
    "    \n",
    "    # Location information (already have encoded version)\n",
    "    'team_location', 'opponent_team_location',\n",
    "    \n",
    "    # Raw categorical features (use encoded versions)\n",
    "    'season_type', 'home_away_combined',\n",
    "    \n",
    "    # Combined format columns (use individual made/attempted columns)\n",
    "    'field_goals_made_field_goals_attempted',\n",
    "    'three_point_field_goals_made_three_point_field_goals_attempted',\n",
    "    'free_throws_made_free_throws_attempted',\n",
    "]\n",
    "\n",
    "# Get all columns\n",
    "all_cols = df.columns.tolist()\n",
    "\n",
    "# Select feature columns (exclude target and non-feature columns)\n",
    "feature_cols = [col for col in all_cols if col not in exclude_cols]\n",
    "\n",
    "print(f\"Total columns in dataset: {len(all_cols)}\")\n",
    "print(f\"Excluded columns: {len(exclude_cols)}\")\n",
    "print(f\"Feature columns selected: {len(feature_cols)}\")\n",
    "print(f\"Target variable: {target_col}\")"
   ]
  },
  {
   "cell_type": "code",
   "execution_count": 62,
   "id": "111e3c25",
   "metadata": {},
   "outputs": [
    {
     "name": "stdout",
     "output_type": "stream",
     "text": [
      "\n",
      "CHECKING MISSING VALUES:\n",
      "============================================================\n",
      "\n",
      "Target variable 'team_winner_encoded': 0 missing (0.00%)\n",
      "\n",
      "Feature columns with missing values:\n",
      "Found 2 features with missing values:\n",
      "\n",
      "  largest_lead                            :   27,112 ( 12.8%)\n",
      "  team_rebounds                           :   12,370 (  5.9%)\n"
     ]
    }
   ],
   "source": [
    "# Check for missing values in features and target\n",
    "print(\"\\nCHECKING MISSING VALUES:\")\n",
    "print(\"=\"*60)\n",
    "\n",
    "# Check target variable\n",
    "target_missing = df[target_col].isnull().sum()\n",
    "print(f\"\\nTarget variable '{target_col}': {target_missing:,} missing ({target_missing/len(df)*100:.2f}%)\")\n",
    "\n",
    "# Check feature columns\n",
    "print(f\"\\nFeature columns with missing values:\")\n",
    "missing_counts = df[feature_cols].isnull().sum()\n",
    "missing_features = missing_counts[missing_counts > 0].sort_values(ascending=False)\n",
    "\n",
    "if len(missing_features) > 0:\n",
    "    print(f\"Found {len(missing_features)} features with missing values:\\n\")\n",
    "    for col, count in missing_features.items():\n",
    "        pct = count / len(df) * 100\n",
    "        print(f\"  {col:<40}: {count:>8,} ({pct:>5.1f}%)\")\n",
    "else:\n",
    "    print(\"  ✓ No missing values found in feature columns!\")"
   ]
  },
  {
   "cell_type": "code",
   "execution_count": 63,
   "id": "f58526eb",
   "metadata": {},
   "outputs": [
    {
     "name": "stdout",
     "output_type": "stream",
     "text": [
      "\n",
      "CLEANING DATA:\n",
      "============================================================\n",
      "Rows with missing target removed: 0\n",
      "Remaining rows: 211,432\n",
      "\n",
      "Rows with any missing features removed: 39,382\n",
      "Final dataset size: 172,050 rows (81.4% of original)\n",
      "\n",
      "TARGET CLASS DISTRIBUTION:\n",
      "  Loss (0): 86,026 (50.0%)\n",
      "  Win (1): 86,024 (50.0%)\n",
      "\n",
      "Class imbalance ratio: 1.00:1\n",
      "  ✓ Classes are reasonably balanced\n"
     ]
    }
   ],
   "source": [
    "# Remove rows with missing target variable\n",
    "print(\"\\nCLEANING DATA:\")\n",
    "print(\"=\"*60)\n",
    "\n",
    "initial_rows = len(df)\n",
    "df_clean = df.dropna(subset=[target_col]).copy()\n",
    "rows_removed = initial_rows - len(df_clean)\n",
    "\n",
    "print(f\"Rows with missing target removed: {rows_removed:,}\")\n",
    "print(f\"Remaining rows: {len(df_clean):,}\")\n",
    "\n",
    "# For features, only keep rows where ALL features are non-null\n",
    "df_clean = df_clean.dropna(subset=feature_cols)\n",
    "final_rows = len(df_clean)\n",
    "total_removed = initial_rows - final_rows\n",
    "\n",
    "print(f\"\\nRows with any missing features removed: {initial_rows - final_rows:,}\")\n",
    "print(f\"Final dataset size: {final_rows:,} rows ({final_rows/initial_rows*100:.1f}% of original)\")\n",
    "\n",
    "# Check class distribution\n",
    "print(f\"\\nTARGET CLASS DISTRIBUTION:\")\n",
    "class_dist = df_clean[target_col].value_counts()\n",
    "class_pct = df_clean[target_col].value_counts(normalize=True) * 100\n",
    "\n",
    "for class_val in sorted(class_dist.index):\n",
    "    label = \"Loss\" if class_val == 0 else \"Win\"\n",
    "    print(f\"  {label} ({class_val}): {class_dist[class_val]:,} ({class_pct[class_val]:.1f}%)\")\n",
    "\n",
    "# Check for class imbalance\n",
    "imbalance_ratio = class_dist.max() / class_dist.min()\n",
    "print(f\"\\nClass imbalance ratio: {imbalance_ratio:.2f}:1\")\n",
    "if imbalance_ratio > 1.5:\n",
    "    print(\"  ⚠ Warning: Significant class imbalance detected\")\n",
    "else:\n",
    "    print(\"  ✓ Classes are reasonably balanced\")"
   ]
  },
  {
   "cell_type": "markdown",
   "id": "63effc03",
   "metadata": {},
   "source": [
    "## 3. Train/Test Split\n",
    "\n",
    "Split the data into training and testing sets. We'll use 80% for training and 20% for testing."
   ]
  },
  {
   "cell_type": "code",
   "execution_count": 64,
   "id": "741e7a9f",
   "metadata": {},
   "outputs": [
    {
     "name": "stdout",
     "output_type": "stream",
     "text": [
      "TRAIN/TEST SPLIT\n",
      "======================================================================\n",
      "Features shape: (172050, 29)\n",
      "Target shape: (172050,)\n",
      "\n",
      "Feature columns (29):\n",
      "   1. field_goal_pct\n",
      "   2. three_point_field_goal_pct\n",
      "   3. free_throw_pct\n",
      "   4. total_rebounds\n",
      "   5. offensive_rebounds\n",
      "   6. defensive_rebounds\n",
      "   7. team_rebounds\n",
      "   8. assists\n",
      "   9. steals\n",
      "  10. blocks\n",
      "  11. turnovers\n",
      "  12. team_turnovers\n",
      "  13. total_turnovers\n",
      "  14. technical_fouls\n",
      "  15. total_technical_fouls\n",
      "  16. flagrant_fouls\n",
      "  17. fouls\n",
      "  18. season\n",
      "  19. team_score\n",
      "  20. field_goals_made\n",
      "  21. field_goals_attempted\n",
      "  22. free_throws_made\n",
      "  23. free_throws_attempted\n",
      "  24. three_point_field_goals_made\n",
      "  25. three_point_field_goals_attempted\n",
      "  26. opponent_team_score\n",
      "  27. largest_lead\n",
      "  28. season_type_encoded\n",
      "  29. home_away_encoded\n",
      "\n",
      "SPLIT RESULTS:\n",
      "  Training set: 137,640 samples (80.0%)\n",
      "  Test set:     34,410 samples (20.0%)\n",
      "\n",
      "Class distribution in training set:\n",
      "  Loss: 50.0%\n",
      "  Win: 50.0%\n",
      "\n",
      "Class distribution in test set:\n",
      "  Loss: 50.0%\n",
      "  Win: 50.0%\n",
      "\n",
      "✓ Data split completed successfully!\n"
     ]
    }
   ],
   "source": [
    "print(\"TRAIN/TEST SPLIT\")\n",
    "print(\"=\"*70)\n",
    "\n",
    "# Prepare features (X) and target (y)\n",
    "X = df_clean[feature_cols].copy()\n",
    "y = df_clean[target_col].copy()\n",
    "\n",
    "print(f\"Features shape: {X.shape}\")\n",
    "print(f\"Target shape: {y.shape}\")\n",
    "print(f\"\\nFeature columns ({len(feature_cols)}):\")\n",
    "for i, col in enumerate(feature_cols, 1):\n",
    "    print(f\"  {i:2d}. {col}\")\n",
    "\n",
    "# Split data (80% train, 20% test)\n",
    "X_train, X_test, y_train, y_test = train_test_split(\n",
    "    X, y, \n",
    "    test_size=0.2, \n",
    "    random_state=RANDOM_STATE,\n",
    "    stratify=y  # Maintain class distribution in both sets\n",
    ")\n",
    "\n",
    "print(f\"\\nSPLIT RESULTS:\")\n",
    "print(f\"  Training set: {len(X_train):,} samples ({len(X_train)/len(X)*100:.1f}%)\")\n",
    "print(f\"  Test set:     {len(X_test):,} samples ({len(X_test)/len(X)*100:.1f}%)\")\n",
    "\n",
    "# Verify class distribution in splits\n",
    "print(f\"\\nClass distribution in training set:\")\n",
    "train_dist = y_train.value_counts(normalize=True) * 100\n",
    "for class_val in sorted(train_dist.index):\n",
    "    label = \"Loss\" if class_val == 0 else \"Win\"\n",
    "    print(f\"  {label}: {train_dist[class_val]:.1f}%\")\n",
    "\n",
    "print(f\"\\nClass distribution in test set:\")\n",
    "test_dist = y_test.value_counts(normalize=True) * 100\n",
    "for class_val in sorted(test_dist.index):\n",
    "    label = \"Loss\" if class_val == 0 else \"Win\"\n",
    "    print(f\"  {label}: {test_dist[class_val]:.1f}%\")\n",
    "\n",
    "print(\"\\n✓ Data split completed successfully!\")"
   ]
  },
  {
   "cell_type": "markdown",
   "id": "abc74db5",
   "metadata": {},
   "source": [
    "## 4. Feature Scaling\n",
    "\n",
    "Scale features to have mean=0 and std=1 for better model performance."
   ]
  },
  {
   "cell_type": "code",
   "execution_count": 65,
   "id": "82f566b1",
   "metadata": {},
   "outputs": [
    {
     "name": "stdout",
     "output_type": "stream",
     "text": [
      "FEATURE SCALING\n",
      "======================================================================\n",
      "✓ Features scaled using StandardScaler\n",
      "  Training set scaled shape: (137640, 29)\n",
      "  Test set scaled shape: (34410, 29)\n",
      "\n",
      "Scaling statistics (first 5 features):\n",
      "  Feature means: [43.82 34.27 69.35 36.71 10.81]\n",
      "  Feature stds:  [ 7.64 11.57 12.77  7.49  4.21]\n",
      "\n",
      "✓ Feature scaling completed!\n"
     ]
    }
   ],
   "source": [
    "print(\"FEATURE SCALING\")\n",
    "print(\"=\"*70)\n",
    "\n",
    "# Initialize scaler\n",
    "scaler = StandardScaler()\n",
    "\n",
    "# Fit on training data only (avoid data leakage)\n",
    "X_train_scaled = scaler.fit_transform(X_train)\n",
    "X_test_scaled = scaler.transform(X_test)\n",
    "\n",
    "print(f\"✓ Features scaled using StandardScaler\")\n",
    "print(f\"  Training set scaled shape: {X_train_scaled.shape}\")\n",
    "print(f\"  Test set scaled shape: {X_test_scaled.shape}\")\n",
    "\n",
    "# Show scaling statistics for a few features\n",
    "print(f\"\\nScaling statistics (first 5 features):\")\n",
    "print(f\"  Feature means: {scaler.mean_[:5].round(2)}\")\n",
    "print(f\"  Feature stds:  {scaler.scale_[:5].round(2)}\")\n",
    "\n",
    "print(\"\\n✓ Feature scaling completed!\")"
   ]
  },
  {
   "cell_type": "markdown",
   "id": "86fe4c1f",
   "metadata": {},
   "source": [
    "## 5. Train Logistic Regression Model\n",
    "\n",
    "Train a baseline logistic regression model to predict wins/losses."
   ]
  },
  {
   "cell_type": "code",
   "execution_count": 66,
   "id": "d8c8e7cf",
   "metadata": {},
   "outputs": [
    {
     "name": "stdout",
     "output_type": "stream",
     "text": [
      "TRAINING LOGISTIC REGRESSION MODEL\n",
      "======================================================================\n",
      "Training model...\n",
      "  Model: Logistic Regression\n",
      "  Solver: lbfgs\n",
      "  Max iterations: 1000\n",
      "  Class weight: balanced\n",
      "\n",
      "✓ Model training completed!\n",
      "  Converged: True\n",
      "  Iterations: 29\n"
     ]
    }
   ],
   "source": [
    "print(\"TRAINING LOGISTIC REGRESSION MODEL\")\n",
    "print(\"=\"*70)\n",
    "\n",
    "# Initialize model\n",
    "model = LogisticRegression(\n",
    "    random_state=RANDOM_STATE,\n",
    "    max_iter=1000,\n",
    "    solver='lbfgs',\n",
    "    class_weight='balanced'  # Handle any slight class imbalance\n",
    ")\n",
    "\n",
    "print(\"Training model...\")\n",
    "print(f\"  Model: Logistic Regression\")\n",
    "print(f\"  Solver: lbfgs\")\n",
    "print(f\"  Max iterations: 1000\")\n",
    "print(f\"  Class weight: balanced\")\n",
    "\n",
    "# Train the model\n",
    "model.fit(X_train_scaled, y_train)\n",
    "\n",
    "print(f\"\\n✓ Model training completed!\")\n",
    "print(f\"  Converged: {model.n_iter_[0] < 1000}\")\n",
    "print(f\"  Iterations: {model.n_iter_[0]}\")"
   ]
  },
  {
   "cell_type": "markdown",
   "id": "23f7617e",
   "metadata": {},
   "source": [
    "## 6. Model Evaluation\n",
    "\n",
    "Evaluate model performance on both training and test sets."
   ]
  },
  {
   "cell_type": "code",
   "execution_count": 67,
   "id": "2ae9506e",
   "metadata": {},
   "outputs": [
    {
     "name": "stdout",
     "output_type": "stream",
     "text": [
      "MODEL EVALUATION\n",
      "======================================================================\n",
      "\n",
      "TRAINING SET PERFORMANCE:\n",
      "----------------------------------------\n",
      "  Accuracy:  1.0000\n",
      "  Precision: 1.0000\n",
      "  Recall:    1.0000\n",
      "  F1-Score:  1.0000\n",
      "  ROC-AUC:   1.0000\n",
      "\n",
      "TEST SET PERFORMANCE:\n",
      "----------------------------------------\n",
      "  Accuracy:  1.0000\n",
      "  Precision: 1.0000\n",
      "  Recall:    0.9999\n",
      "  F1-Score:  1.0000\n",
      "  ROC-AUC:   1.0000\n",
      "\n",
      "OVERFITTING CHECK:\n",
      "----------------------------------------\n",
      "  Train accuracy: 1.0000\n",
      "  Test accuracy:  1.0000\n",
      "  Difference:     0.0000\n",
      "  ✓ Excellent generalization - minimal overfitting\n"
     ]
    }
   ],
   "source": [
    "print(\"MODEL EVALUATION\")\n",
    "print(\"=\"*70)\n",
    "\n",
    "# Make predictions\n",
    "y_train_pred = model.predict(X_train_scaled)\n",
    "y_test_pred = model.predict(X_test_scaled)\n",
    "\n",
    "# Predict probabilities for ROC-AUC\n",
    "y_train_proba = model.predict_proba(X_train_scaled)[:, 1]\n",
    "y_test_proba = model.predict_proba(X_test_scaled)[:, 1]\n",
    "\n",
    "# Calculate metrics\n",
    "print(\"\\nTRAINING SET PERFORMANCE:\")\n",
    "print(\"-\"*40)\n",
    "print(f\"  Accuracy:  {accuracy_score(y_train, y_train_pred):.4f}\")\n",
    "print(f\"  Precision: {precision_score(y_train, y_train_pred):.4f}\")\n",
    "print(f\"  Recall:    {recall_score(y_train, y_train_pred):.4f}\")\n",
    "print(f\"  F1-Score:  {f1_score(y_train, y_train_pred):.4f}\")\n",
    "print(f\"  ROC-AUC:   {roc_auc_score(y_train, y_train_proba):.4f}\")\n",
    "\n",
    "print(\"\\nTEST SET PERFORMANCE:\")\n",
    "print(\"-\"*40)\n",
    "print(f\"  Accuracy:  {accuracy_score(y_test, y_test_pred):.4f}\")\n",
    "print(f\"  Precision: {precision_score(y_test, y_test_pred):.4f}\")\n",
    "print(f\"  Recall:    {recall_score(y_test, y_test_pred):.4f}\")\n",
    "print(f\"  F1-Score:  {f1_score(y_test, y_test_pred):.4f}\")\n",
    "print(f\"  ROC-AUC:   {roc_auc_score(y_test, y_test_proba):.4f}\")\n",
    "\n",
    "# Check for overfitting\n",
    "train_acc = accuracy_score(y_train, y_train_pred)\n",
    "test_acc = accuracy_score(y_test, y_test_pred)\n",
    "acc_diff = train_acc - test_acc\n",
    "\n",
    "print(f\"\\nOVERFITTING CHECK:\")\n",
    "print(\"-\"*40)\n",
    "print(f\"  Train accuracy: {train_acc:.4f}\")\n",
    "print(f\"  Test accuracy:  {test_acc:.4f}\")\n",
    "print(f\"  Difference:     {acc_diff:.4f}\")\n",
    "\n",
    "if acc_diff < 0.02:\n",
    "    print(\"  ✓ Excellent generalization - minimal overfitting\")\n",
    "elif acc_diff < 0.05:\n",
    "    print(\"  ✓ Good generalization - slight overfitting\")\n",
    "else:\n",
    "    print(\"  ⚠ Moderate overfitting detected\")"
   ]
  },
  {
   "cell_type": "code",
   "execution_count": 68,
   "id": "d19616ac",
   "metadata": {},
   "outputs": [
    {
     "name": "stdout",
     "output_type": "stream",
     "text": [
      "\n",
      "DETAILED CLASSIFICATION REPORT (Test Set):\n",
      "======================================================================\n",
      "              precision    recall  f1-score   support\n",
      "\n",
      "    Loss (0)       1.00      1.00      1.00     17205\n",
      "     Win (1)       1.00      1.00      1.00     17205\n",
      "\n",
      "    accuracy                           1.00     34410\n",
      "   macro avg       1.00      1.00      1.00     34410\n",
      "weighted avg       1.00      1.00      1.00     34410\n",
      "\n"
     ]
    }
   ],
   "source": [
    "# Detailed classification report\n",
    "print(\"\\nDETAILED CLASSIFICATION REPORT (Test Set):\")\n",
    "print(\"=\"*70)\n",
    "print(classification_report(y_test, y_test_pred, target_names=['Loss (0)', 'Win (1)']))"
   ]
  },
  {
   "cell_type": "code",
   "execution_count": 69,
   "id": "3cc21900",
   "metadata": {},
   "outputs": [
    {
     "name": "stdout",
     "output_type": "stream",
     "text": [
      "CONFUSION MATRIX\n",
      "======================================================================\n"
     ]
    },
    {
     "data": {
      "image/png": "[encoded data removed]",
      "text/plain": [
       "<Figure size 1400x500 with 4 Axes>"
      ]
     },
     "metadata": {},
     "output_type": "display_data"
    },
    {
     "name": "stdout",
     "output_type": "stream",
     "text": [
      "\n",
      "Test Set Confusion Matrix Values:\n",
      "  True Negatives (Correct Loss predictions): 17,205\n",
      "  False Positives (Loss predicted as Win):   0\n",
      "  False Negatives (Win predicted as Loss):   1\n",
      "  True Positives (Correct Win predictions):  17,204\n"
     ]
    }
   ],
   "source": [
    "# Confusion Matrix Visualization\n",
    "print(\"CONFUSION MATRIX\")\n",
    "print(\"=\"*70)\n",
    "\n",
    "fig, axes = plt.subplots(1, 2, figsize=(14, 5))\n",
    "\n",
    "# Training set confusion matrix\n",
    "cm_train = confusion_matrix(y_train, y_train_pred)\n",
    "sns.heatmap(cm_train, annot=True, fmt='d', cmap='Blues', ax=axes[0],\n",
    "            xticklabels=['Loss', 'Win'], yticklabels=['Loss', 'Win'])\n",
    "axes[0].set_title('Training Set Confusion Matrix')\n",
    "axes[0].set_ylabel('True Label')\n",
    "axes[0].set_xlabel('Predicted Label')\n",
    "\n",
    "# Test set confusion matrix\n",
    "cm_test = confusion_matrix(y_test, y_test_pred)\n",
    "sns.heatmap(cm_test, annot=True, fmt='d', cmap='Blues', ax=axes[1],\n",
    "            xticklabels=['Loss', 'Win'], yticklabels=['Loss', 'Win'])\n",
    "axes[1].set_title('Test Set Confusion Matrix')\n",
    "axes[1].set_ylabel('True Label')\n",
    "axes[1].set_xlabel('Predicted Label')\n",
    "\n",
    "plt.tight_layout()\n",
    "plt.show()\n",
    "\n",
    "print(\"\\nTest Set Confusion Matrix Values:\")\n",
    "print(f\"  True Negatives (Correct Loss predictions): {cm_test[0, 0]:,}\")\n",
    "print(f\"  False Positives (Loss predicted as Win):   {cm_test[0, 1]:,}\")\n",
    "print(f\"  False Negatives (Win predicted as Loss):   {cm_test[1, 0]:,}\")\n",
    "print(f\"  True Positives (Correct Win predictions):  {cm_test[1, 1]:,}\")"
   ]
  },
  {
   "cell_type": "code",
   "execution_count": 70,
   "id": "54514957",
   "metadata": {},
   "outputs": [
    {
     "name": "stdout",
     "output_type": "stream",
     "text": [
      "\n",
      "ROC CURVE\n",
      "======================================================================\n"
     ]
    },
    {
     "data": {
      "image/png": "[encoded data removed]",
      "text/plain": [
       "<Figure size 800x600 with 1 Axes>"
      ]
     },
     "metadata": {},
     "output_type": "display_data"
    },
    {
     "name": "stdout",
     "output_type": "stream",
     "text": [
      "✓ ROC-AUC Score: 1.0000\n",
      "  Excellent discrimination ability\n"
     ]
    }
   ],
   "source": [
    "# ROC Curve\n",
    "print(\"\\nROC CURVE\")\n",
    "print(\"=\"*70)\n",
    "\n",
    "# Calculate ROC curve\n",
    "fpr, tpr, thresholds = roc_curve(y_test, y_test_proba)\n",
    "roc_auc = roc_auc_score(y_test, y_test_proba)\n",
    "\n",
    "# Plot ROC curve\n",
    "plt.figure(figsize=(8, 6))\n",
    "plt.plot(fpr, tpr, color='darkorange', lw=2, label=f'ROC curve (AUC = {roc_auc:.4f})')\n",
    "plt.plot([0, 1], [0, 1], color='navy', lw=2, linestyle='--', label='Random Classifier')\n",
    "plt.xlim([0.0, 1.0])\n",
    "plt.ylim([0.0, 1.05])\n",
    "plt.xlabel('False Positive Rate')\n",
    "plt.ylabel('True Positive Rate')\n",
    "plt.title('Receiver Operating Characteristic (ROC) Curve')\n",
    "plt.legend(loc=\"lower right\")\n",
    "plt.grid(alpha=0.3)\n",
    "plt.tight_layout()\n",
    "plt.show()\n",
    "\n",
    "print(f\"✓ ROC-AUC Score: {roc_auc:.4f}\")\n",
    "if roc_auc > 0.9:\n",
    "    print(\"  Excellent discrimination ability\")\n",
    "elif roc_auc > 0.8:\n",
    "    print(\"  Good discrimination ability\")\n",
    "elif roc_auc > 0.7:\n",
    "    print(\"  Acceptable discrimination ability\")\n",
    "else:\n",
    "    print(\"  Poor discrimination ability\")"
   ]
  },
  {
   "cell_type": "markdown",
   "id": "2420d077",
   "metadata": {},
   "source": [
    "## 7. Feature Importance Analysis\n",
    "\n",
    "Analyze which features are most important for predicting wins/losses."
   ]
  },
  {
   "cell_type": "code",
   "execution_count": 71,
   "id": "9f537da6",
   "metadata": {},
   "outputs": [
    {
     "name": "stdout",
     "output_type": "stream",
     "text": [
      "FEATURE IMPORTANCE ANALYSIS\n",
      "======================================================================\n",
      "\n",
      "Top 20 Most Important Features:\n",
      "----------------------------------------------------------------------\n",
      "Rank   Feature                                  Coefficient \n",
      "----------------------------------------------------------------------\n",
      "1      opponent_team_score                        -32.1904 ↓\n",
      "2      team_score                                  13.1712 ↑\n",
      "3      field_goals_made                            10.4541 ↑\n",
      "4      free_throws_made                             8.0794 ↑\n",
      "5      three_point_field_goals_made                 5.4148 ↑\n",
      "6      field_goal_pct                               3.7788 ↑\n",
      "7      field_goals_attempted                        2.8639 ↑\n",
      "8      free_throws_attempted                        0.7646 ↑\n",
      "9      three_point_field_goals_attempted           -0.6634 ↓\n",
      "10     three_point_field_goal_pct                  -0.6283 ↓\n",
      "11     free_throw_pct                               0.2207 ↑\n",
      "12     largest_lead                                 0.1620 ↑\n",
      "13     fouls                                       -0.1032 ↓\n",
      "14     defensive_rebounds                           0.0918 ↑\n",
      "15     steals                                       0.0907 ↑\n",
      "16     total_turnovers                             -0.0689 ↓\n",
      "17     turnovers                                   -0.0689 ↓\n",
      "18     total_rebounds                               0.0478 ↑\n",
      "19     blocks                                       0.0408 ↑\n",
      "20     offensive_rebounds                          -0.0311 ↓\n",
      "\n",
      "↑ = Positive correlation with winning\n",
      "↓ = Negative correlation with winning\n"
     ]
    }
   ],
   "source": [
    "print(\"FEATURE IMPORTANCE ANALYSIS\")\n",
    "print(\"=\"*70)\n",
    "\n",
    "# Get feature coefficients\n",
    "feature_importance = pd.DataFrame({\n",
    "    'Feature': feature_cols,\n",
    "    'Coefficient': model.coef_[0],\n",
    "    'Abs_Coefficient': np.abs(model.coef_[0])\n",
    "}).sort_values('Abs_Coefficient', ascending=False)\n",
    "\n",
    "print(\"\\nTop 20 Most Important Features:\")\n",
    "print(\"-\"*70)\n",
    "print(f\"{'Rank':<6} {'Feature':<40} {'Coefficient':<12}\")\n",
    "print(\"-\"*70)\n",
    "\n",
    "for idx, (i, row) in enumerate(feature_importance.head(20).iterrows(), 1):\n",
    "    direction = \"↑\" if row['Coefficient'] > 0 else \"↓\"\n",
    "    print(f\"{idx:<6} {row['Feature']:<40} {row['Coefficient']:>10.4f} {direction}\")\n",
    "\n",
    "print(\"\\n↑ = Positive correlation with winning\")\n",
    "print(\"↓ = Negative correlation with winning\")"
   ]
  },
  {
   "cell_type": "code",
   "execution_count": 72,
   "id": "3c8b2cc4",
   "metadata": {},
   "outputs": [
    {
     "data": {
      "image/png": "[encoded data removed]",
      "text/plain": [
       "<Figure size 1200x800 with 1 Axes>"
      ]
     },
     "metadata": {},
     "output_type": "display_data"
    },
    {
     "name": "stdout",
     "output_type": "stream",
     "text": [
      "\n",
      "✓ Feature importance analysis completed!\n"
     ]
    }
   ],
   "source": [
    "# Visualize top feature importances\n",
    "plt.figure(figsize=(12, 8))\n",
    "\n",
    "top_features = feature_importance.head(15)\n",
    "colors = ['green' if x > 0 else 'red' for x in top_features['Coefficient']]\n",
    "\n",
    "plt.barh(range(len(top_features)), top_features['Coefficient'], color=colors, alpha=0.7)\n",
    "plt.yticks(range(len(top_features)), top_features['Feature'])\n",
    "plt.xlabel('Coefficient Value')\n",
    "plt.title('Top 15 Feature Importances (Logistic Regression Coefficients)')\n",
    "plt.axvline(x=0, color='black', linestyle='-', linewidth=0.5)\n",
    "plt.grid(axis='x', alpha=0.3)\n",
    "plt.tight_layout()\n",
    "plt.show()\n",
    "\n",
    "print(\"\\n✓ Feature importance analysis completed!\")"
   ]
  },
  {
   "cell_type": "markdown",
   "id": "c8667beb",
   "metadata": {},
   "source": [
    "## 8. Cross-Validation\n",
    "\n",
    "Perform k-fold cross-validation to ensure model robustness."
   ]
  },
  {
   "cell_type": "code",
   "execution_count": 73,
   "id": "50dcee4a",
   "metadata": {},
   "outputs": [
    {
     "name": "stdout",
     "output_type": "stream",
     "text": [
      "CROSS-VALIDATION\n",
      "======================================================================\n",
      "Performing 5-fold cross-validation...\n",
      "\n",
      "Cross-Validation Results:\n",
      "----------------------------------------\n",
      "  Fold scores: ['1.0000', '1.0000', '1.0000', '0.9999', '1.0000']\n",
      "  Mean accuracy: 1.0000\n",
      "  Std deviation: 0.0000\n",
      "  95% confidence interval: [0.9999, 1.0000]\n",
      "\n",
      "✓ Cross-validation completed!\n",
      "  Model shows consistent performance across folds\n"
     ]
    }
   ],
   "source": [
    "print(\"CROSS-VALIDATION\")\n",
    "print(\"=\"*70)\n",
    "\n",
    "# Perform 5-fold cross-validation\n",
    "print(\"Performing 5-fold cross-validation...\")\n",
    "cv_scores = cross_val_score(model, X_train_scaled, y_train, cv=5, scoring='accuracy')\n",
    "\n",
    "print(f\"\\nCross-Validation Results:\")\n",
    "print(\"-\"*40)\n",
    "print(f\"  Fold scores: {[f'{score:.4f}' for score in cv_scores]}\")\n",
    "print(f\"  Mean accuracy: {cv_scores.mean():.4f}\")\n",
    "print(f\"  Std deviation: {cv_scores.std():.4f}\")\n",
    "print(f\"  95% confidence interval: [{cv_scores.mean() - 1.96*cv_scores.std():.4f}, {cv_scores.mean() + 1.96*cv_scores.std():.4f}]\")\n",
    "\n",
    "print(f\"\\n✓ Cross-validation completed!\")\n",
    "print(f\"  Model shows {'consistent' if cv_scores.std() < 0.01 else 'variable'} performance across folds\")"
   ]
  },
  {
   "cell_type": "markdown",
   "id": "9a48e09c",
   "metadata": {},
   "source": [
    "## 9. Model Summary and Next Steps\n",
    "\n",
    "Summary of model performance and recommendations for improvement."
   ]
  },
  {
   "cell_type": "code",
   "execution_count": 74,
   "id": "0496625f",
   "metadata": {},
   "outputs": [
    {
     "name": "stdout",
     "output_type": "stream",
     "text": [
      "======================================================================\n",
      "MODEL SUMMARY\n",
      "======================================================================\n",
      "\n",
      "📊 DATASET:\n",
      "  Total records: 172,050\n",
      "  Training set: 137,640\n",
      "  Test set: 34,410\n",
      "  Features: 29\n",
      "\n",
      "🎯 MODEL PERFORMANCE:\n",
      "  Test Accuracy: 1.0000\n",
      "  Test F1-Score: 1.0000\n",
      "  Test ROC-AUC: 1.0000\n",
      "  Cross-Val Accuracy: 1.0000 ± 0.0000\n",
      "\n",
      "🔑 TOP 5 PREDICTIVE FEATURES:\n",
      "  1. opponent_team_score (decreases win probability)\n",
      "  2. team_score (increases win probability)\n",
      "  3. field_goals_made (increases win probability)\n",
      "  4. free_throws_made (increases win probability)\n",
      "  5. three_point_field_goals_made (increases win probability)\n",
      "\n",
      "💡 NEXT STEPS FOR IMPROVEMENT:\n",
      "  1. Try ensemble methods (Random Forest, XGBoost)\n",
      "  2. Feature engineering (create interaction features)\n",
      "  3. Hyperparameter tuning using GridSearchCV\n",
      "  4. Try different feature selection techniques\n",
      "  5. Consider temporal features (team momentum, recent performance)\n",
      "  6. Add opponent strength features (head-to-head stats)\n",
      "\n",
      "======================================================================\n",
      "✓ Baseline model successfully created!\n",
      "  This model provides a solid foundation for predicting NCAA basketball game outcomes.\n",
      "======================================================================\n"
     ]
    }
   ],
   "source": [
    "print(\"=\"*70)\n",
    "print(\"MODEL SUMMARY\")\n",
    "print(\"=\"*70)\n",
    "\n",
    "print(f\"\\n📊 DATASET:\")\n",
    "print(f\"  Total records: {len(df_clean):,}\")\n",
    "print(f\"  Training set: {len(X_train):,}\")\n",
    "print(f\"  Test set: {len(X_test):,}\")\n",
    "print(f\"  Features: {len(feature_cols)}\")\n",
    "\n",
    "print(f\"\\n🎯 MODEL PERFORMANCE:\")\n",
    "print(f\"  Test Accuracy: {accuracy_score(y_test, y_test_pred):.4f}\")\n",
    "print(f\"  Test F1-Score: {f1_score(y_test, y_test_pred):.4f}\")\n",
    "print(f\"  Test ROC-AUC: {roc_auc_score(y_test, y_test_proba):.4f}\")\n",
    "print(f\"  Cross-Val Accuracy: {cv_scores.mean():.4f} ± {cv_scores.std():.4f}\")\n",
    "\n",
    "print(f\"\\n🔑 TOP 5 PREDICTIVE FEATURES:\")\n",
    "for idx, (i, row) in enumerate(feature_importance.head(5).iterrows(), 1):\n",
    "    direction = \"increases\" if row['Coefficient'] > 0 else \"decreases\"\n",
    "    print(f\"  {idx}. {row['Feature']} ({direction} win probability)\")\n",
    "\n",
    "print(f\"\\n💡 NEXT STEPS FOR IMPROVEMENT:\")\n",
    "print(f\"  1. Try ensemble methods (Random Forest, XGBoost)\")\n",
    "print(f\"  2. Feature engineering (create interaction features)\")\n",
    "print(f\"  3. Hyperparameter tuning using GridSearchCV\")\n",
    "print(f\"  4. Try different feature selection techniques\")\n",
    "print(f\"  5. Consider temporal features (team momentum, recent performance)\")\n",
    "print(f\"  6. Add opponent strength features (head-to-head stats)\")\n",
    "\n",
    "print(\"\\n\" + \"=\"*70)\n",
    "print(\"✓ Baseline model successfully created!\")\n",
    "print(\"  This model provides a solid foundation for predicting NCAA basketball game outcomes.\")\n",
    "print(\"=\"*70)"
   ]
  }
 ],
 "metadata": {
  "kernelspec": {
   "display_name": "Python (sam2)",
   "language": "python",
   "name": "sam2"
  },
  "language_info": {
   "codemirror_mode": {
    "name": "ipython",
    "version": 3
   },
   "file_extension": ".py",
   "mimetype": "text/x-python",
   "name": "python",
   "nbconvert_exporter": "python",
   "pygments_lexer": "ipython3",
   "version": "3.12.4"
  }
 },
 "nbformat": 4,
 "nbformat_minor": 5
}
